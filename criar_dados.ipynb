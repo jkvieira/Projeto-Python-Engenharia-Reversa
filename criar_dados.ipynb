{
 "cells": [
  {
   "cell_type": "markdown",
   "id": "c2ce1f14",
   "metadata": {},
   "source": [
    "# Este código gera uma base de dados que simula o controle de um sistema de vendas fictício."
   ]
  },
  {
   "cell_type": "code",
   "execution_count": null,
   "id": "4fc36c4d",
   "metadata": {},
   "outputs": [],
   "source": [
    "!pip install Faker"
   ]
  },
  {
   "cell_type": "code",
   "execution_count": 2,
   "id": "e3cc1e3b",
   "metadata": {},
   "outputs": [],
   "source": [
    "import pandas as pd\n",
    "import random\n",
    "from faker import Faker"
   ]
  },
  {
   "cell_type": "code",
   "execution_count": 3,
   "id": "2253dcc8",
   "metadata": {},
   "outputs": [],
   "source": [
    "# Funções auxiliares\n",
    "def id_vendedor(x):\n",
    "     if x == \"Vendedor 1\": return 1\n",
    "     if x == \"Vendedor 2\": return 2\n",
    "     if x == \"Vendedor 3\": return 3\n",
    "     if x == \"Vendedor 4\": return 4\n",
    "\n",
    "def email_vendedor(x):\n",
    "    if x == \"Vendedor 1\": return Email_Vendedor[0]\n",
    "    if x == \"Vendedor 2\": return Email_Vendedor[1]\n",
    "    if x == \"Vendedor 3\": return Email_Vendedor[2]\n",
    "    if x == \"Vendedor 4\": return Email_Vendedor[3]\n",
    "\n",
    "def id_produto(x):\n",
    "     if x == \"Produto A\": return 1\n",
    "     if x == \"Produto B\": return 2\n",
    "     if x == \"Produto C\": return 3\n",
    "     if x == \"Produto D\": return 4\n",
    "\n",
    "def preco_produto(x):\n",
    "     if x == \"Produto A\": return 15.90\n",
    "     if x == \"Produto B\": return 22.50\n",
    "     if x == \"Produto C\": return 30.90\n",
    "     if x == \"Produto D\": return 40.90\n",
    "def distribuidora_produto(x):\n",
    "     if x == \"Produto A\": return \"Distribuidora 1\"\n",
    "     if x == \"Produto B\": return \"Distribuidora 2\"\n",
    "     if x == \"Produto C\": return \"Distribuidora 3\"\n",
    "     if x == \"Produto D\": return \"Distribuidora 4\""
   ]
  },
  {
   "cell_type": "code",
   "execution_count": 7,
   "id": "d55a35d7",
   "metadata": {
    "scrolled": true
   },
   "outputs": [],
   "source": [
    "# Instancia de um objeto Faker\n",
    "fake = Faker()\n",
    "\n",
    "# Lista de produtos, distribuidoras e vendedores fictícios\n",
    "produtos = ['Produto A', 'Produto B', 'Produto C', 'Produto D']\n",
    "distribuidoras = ['Distribuidora 1', 'Distribuidora 2', 'Distribuidora 3', 'Distribuidora 4']\n",
    "vendedores = ['Vendedor 1', 'Vendedor 2', 'Vendedor 3', 'Vendedor 4']\n",
    "Email_Vendedor= [fake.email() for _ in range(4)]\n",
    "\n",
    "# Geraração das variáveis aleatórias \n",
    "data = {\n",
    "    'ID Venda': list(range(1, 1001)),\n",
    "    'Data Venda': [fake.date_this_year() for _ in range(1000)],\n",
    "    'Produto': [random.choice(produtos) for _ in range(1000)],\n",
    "    'Quantidade': [random.randint(1, 5) for _ in range(1000)],\n",
    "    'Total Venda': [0 for _ in range(1000)],\n",
    "    'ID Cliente': list(range(1, 1001)),\n",
    "    'Cliente': [fake.unique.name() for _ in range(1000)],\n",
    "    'Email Cliente': [fake.unique.email() for _ in range(1000)],\n",
    "    'Vendedor': [random.choice(vendedores) for _ in range(1000)],\n",
    "    'Forma de Pagamento': [random.choice(['Cartão de Crédito', 'Dinheiro', 'Transferência Bancária', 'Cartão de Débito', 'Boleto']) for _ in range(1000)]\n",
    "}\n",
    "\n",
    "df = pd.DataFrame(data)\n",
    "\n",
    "# Geração das variáveis não aleatórias utilizando as funções previamente definidas \n",
    "df['ID Produto'] = df['Produto'].apply(lambda x: id_produto(x))\n",
    "df['Distribuidora']= df['Produto'].apply(lambda x: distribuidora_produto(x))\n",
    "df['Preço Unitário']= df['Produto'].apply(lambda x: preco_produto(x))\n",
    "df['ID Vendedor']= df['Vendedor'].apply(lambda x: id_vendedor(x))\n",
    "df['Email Vendedor']= df['Vendedor'].apply(lambda x: email_vendedor(x))\n",
    "\n",
    "# Calculando o Total de cada Venda\n",
    "df['Total Venda'] = df['Quantidade'] * df['Preço Unitário']\n",
    "\n",
    "# Salvando o DataFrame em um arquivo CSV\n",
    "df.to_csv('tabela_vendas.csv', index=False)\n"
   ]
  }
 ],
 "metadata": {
  "kernelspec": {
   "display_name": "Python 3 (ipykernel)",
   "language": "python",
   "name": "python3"
  },
  "language_info": {
   "codemirror_mode": {
    "name": "ipython",
    "version": 3
   },
   "file_extension": ".py",
   "mimetype": "text/x-python",
   "name": "python",
   "nbconvert_exporter": "python",
   "pygments_lexer": "ipython3",
   "version": "3.10.9"
  }
 },
 "nbformat": 4,
 "nbformat_minor": 5
}
